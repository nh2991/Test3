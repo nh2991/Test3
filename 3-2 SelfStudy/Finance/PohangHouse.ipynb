{
 "cells": [
  {
   "cell_type": "code",
   "execution_count": 1,
   "id": "a889b107",
   "metadata": {},
   "outputs": [],
   "source": [
    "import numpy as np\n",
    "import pandas as pd\n",
    "from pandas import Series, DataFrame\n",
    "\n",
    "import matplotlib\n",
    "import matplotlib.pyplot as plt\n",
    "import seaborn as sns"
   ]
  },
  {
   "cell_type": "code",
   "execution_count": 21,
   "id": "e89ec30b",
   "metadata": {},
   "outputs": [],
   "source": [
    "Pohang = pd.read_csv(\"/Users/user/Desktop/Yonsei/Junior/R & Python Programming/3-2 자습/Pohang.csv\", index_col=0)"
   ]
  },
  {
   "cell_type": "code",
   "execution_count": 22,
   "id": "15103575",
   "metadata": {},
   "outputs": [
    {
     "data": {
      "text/html": [
       "<div>\n",
       "<style scoped>\n",
       "    .dataframe tbody tr th:only-of-type {\n",
       "        vertical-align: middle;\n",
       "    }\n",
       "\n",
       "    .dataframe tbody tr th {\n",
       "        vertical-align: top;\n",
       "    }\n",
       "\n",
       "    .dataframe thead th {\n",
       "        text-align: right;\n",
       "    }\n",
       "</style>\n",
       "<table border=\"1\" class=\"dataframe\">\n",
       "  <thead>\n",
       "    <tr style=\"text-align: right;\">\n",
       "      <th></th>\n",
       "      <th>2011</th>\n",
       "      <th>2012</th>\n",
       "      <th>2013</th>\n",
       "      <th>2014</th>\n",
       "      <th>2015</th>\n",
       "      <th>2016</th>\n",
       "      <th>2017</th>\n",
       "      <th>2018</th>\n",
       "      <th>2019</th>\n",
       "      <th>2020</th>\n",
       "    </tr>\n",
       "  </thead>\n",
       "  <tbody>\n",
       "    <tr>\n",
       "      <th>일반가구수</th>\n",
       "      <td>191924.0</td>\n",
       "      <td>196503.0</td>\n",
       "      <td>202686.0</td>\n",
       "      <td>207515.0</td>\n",
       "      <td>210690.0</td>\n",
       "      <td>212095.0</td>\n",
       "      <td>214012.0</td>\n",
       "      <td>216654.0</td>\n",
       "      <td>220318.0</td>\n",
       "      <td>207459.0</td>\n",
       "    </tr>\n",
       "    <tr>\n",
       "      <th>합계(B)</th>\n",
       "      <td>208090.0</td>\n",
       "      <td>213449.0</td>\n",
       "      <td>221033.0</td>\n",
       "      <td>223340.0</td>\n",
       "      <td>226631.0</td>\n",
       "      <td>229856.0</td>\n",
       "      <td>232896.0</td>\n",
       "      <td>241694.0</td>\n",
       "      <td>244490.0</td>\n",
       "      <td>242574.0</td>\n",
       "    </tr>\n",
       "    <tr>\n",
       "      <th>단독주택</th>\n",
       "      <td>87276.0</td>\n",
       "      <td>91602.0</td>\n",
       "      <td>93504.0</td>\n",
       "      <td>94177.0</td>\n",
       "      <td>94670.0</td>\n",
       "      <td>96160.0</td>\n",
       "      <td>97439.0</td>\n",
       "      <td>97467.0</td>\n",
       "      <td>98214.0</td>\n",
       "      <td>93114.0</td>\n",
       "    </tr>\n",
       "    <tr>\n",
       "      <th>다가구주택</th>\n",
       "      <td>45049.0</td>\n",
       "      <td>49506.0</td>\n",
       "      <td>51789.0</td>\n",
       "      <td>51941.0</td>\n",
       "      <td>52151.0</td>\n",
       "      <td>53855.0</td>\n",
       "      <td>54501.0</td>\n",
       "      <td>54963.0</td>\n",
       "      <td>55251.0</td>\n",
       "      <td>50115.0</td>\n",
       "    </tr>\n",
       "    <tr>\n",
       "      <th>아파트</th>\n",
       "      <td>104658.0</td>\n",
       "      <td>105368.0</td>\n",
       "      <td>110729.0</td>\n",
       "      <td>112003.0</td>\n",
       "      <td>114615.0</td>\n",
       "      <td>116046.0</td>\n",
       "      <td>117642.0</td>\n",
       "      <td>126405.0</td>\n",
       "      <td>128451.0</td>\n",
       "      <td>131204.0</td>\n",
       "    </tr>\n",
       "  </tbody>\n",
       "</table>\n",
       "</div>"
      ],
      "text/plain": [
       "           2011      2012      2013      2014      2015      2016      2017  \\\n",
       "일반가구수  191924.0  196503.0  202686.0  207515.0  210690.0  212095.0  214012.0   \n",
       "합계(B)  208090.0  213449.0  221033.0  223340.0  226631.0  229856.0  232896.0   \n",
       "단독주택    87276.0   91602.0   93504.0   94177.0   94670.0   96160.0   97439.0   \n",
       "다가구주택   45049.0   49506.0   51789.0   51941.0   52151.0   53855.0   54501.0   \n",
       "아파트    104658.0  105368.0  110729.0  112003.0  114615.0  116046.0  117642.0   \n",
       "\n",
       "           2018      2019      2020  \n",
       "일반가구수  216654.0  220318.0  207459.0  \n",
       "합계(B)  241694.0  244490.0  242574.0  \n",
       "단독주택    97467.0   98214.0   93114.0  \n",
       "다가구주택   54963.0   55251.0   50115.0  \n",
       "아파트    126405.0  128451.0  131204.0  "
      ]
     },
     "execution_count": 22,
     "metadata": {},
     "output_type": "execute_result"
    }
   ],
   "source": [
    "Pohang.head()"
   ]
  },
  {
   "cell_type": "code",
   "execution_count": 23,
   "id": "d9ebf433",
   "metadata": {},
   "outputs": [],
   "source": [
    "Pohang = Pohang.T"
   ]
  },
  {
   "cell_type": "code",
   "execution_count": 24,
   "id": "9062fdc5",
   "metadata": {},
   "outputs": [
    {
     "data": {
      "text/html": [
       "<div>\n",
       "<style scoped>\n",
       "    .dataframe tbody tr th:only-of-type {\n",
       "        vertical-align: middle;\n",
       "    }\n",
       "\n",
       "    .dataframe tbody tr th {\n",
       "        vertical-align: top;\n",
       "    }\n",
       "\n",
       "    .dataframe thead th {\n",
       "        text-align: right;\n",
       "    }\n",
       "</style>\n",
       "<table border=\"1\" class=\"dataframe\">\n",
       "  <thead>\n",
       "    <tr style=\"text-align: right;\">\n",
       "      <th></th>\n",
       "      <th>일반가구수</th>\n",
       "      <th>합계(B)</th>\n",
       "      <th>단독주택</th>\n",
       "      <th>다가구주택</th>\n",
       "      <th>아파트</th>\n",
       "      <th>연립주택</th>\n",
       "      <th>다세대주택</th>\n",
       "      <th>주택보급률</th>\n",
       "    </tr>\n",
       "  </thead>\n",
       "  <tbody>\n",
       "    <tr>\n",
       "      <th>2011</th>\n",
       "      <td>191924.0</td>\n",
       "      <td>208090.0</td>\n",
       "      <td>87276.0</td>\n",
       "      <td>45049.0</td>\n",
       "      <td>104658.0</td>\n",
       "      <td>5741.0</td>\n",
       "      <td>10415.0</td>\n",
       "      <td>108.4</td>\n",
       "    </tr>\n",
       "    <tr>\n",
       "      <th>2012</th>\n",
       "      <td>196503.0</td>\n",
       "      <td>213449.0</td>\n",
       "      <td>91602.0</td>\n",
       "      <td>49506.0</td>\n",
       "      <td>105368.0</td>\n",
       "      <td>5864.0</td>\n",
       "      <td>10615.0</td>\n",
       "      <td>108.6</td>\n",
       "    </tr>\n",
       "    <tr>\n",
       "      <th>2013</th>\n",
       "      <td>202686.0</td>\n",
       "      <td>221033.0</td>\n",
       "      <td>93504.0</td>\n",
       "      <td>51789.0</td>\n",
       "      <td>110729.0</td>\n",
       "      <td>5809.0</td>\n",
       "      <td>10991.0</td>\n",
       "      <td>109.1</td>\n",
       "    </tr>\n",
       "    <tr>\n",
       "      <th>2014</th>\n",
       "      <td>207515.0</td>\n",
       "      <td>223340.0</td>\n",
       "      <td>94177.0</td>\n",
       "      <td>51941.0</td>\n",
       "      <td>112003.0</td>\n",
       "      <td>6050.0</td>\n",
       "      <td>11110.0</td>\n",
       "      <td>107.6</td>\n",
       "    </tr>\n",
       "    <tr>\n",
       "      <th>2015</th>\n",
       "      <td>210690.0</td>\n",
       "      <td>226631.0</td>\n",
       "      <td>94670.0</td>\n",
       "      <td>52151.0</td>\n",
       "      <td>114615.0</td>\n",
       "      <td>6146.0</td>\n",
       "      <td>11200.0</td>\n",
       "      <td>107.8</td>\n",
       "    </tr>\n",
       "  </tbody>\n",
       "</table>\n",
       "</div>"
      ],
      "text/plain": [
       "         일반가구수     합계(B)     단독주택    다가구주택       아파트    연립주택    다세대주택  주택보급률\n",
       "2011  191924.0  208090.0  87276.0  45049.0  104658.0  5741.0  10415.0  108.4\n",
       "2012  196503.0  213449.0  91602.0  49506.0  105368.0  5864.0  10615.0  108.6\n",
       "2013  202686.0  221033.0  93504.0  51789.0  110729.0  5809.0  10991.0  109.1\n",
       "2014  207515.0  223340.0  94177.0  51941.0  112003.0  6050.0  11110.0  107.6\n",
       "2015  210690.0  226631.0  94670.0  52151.0  114615.0  6146.0  11200.0  107.8"
      ]
     },
     "execution_count": 24,
     "metadata": {},
     "output_type": "execute_result"
    }
   ],
   "source": [
    "Pohang.head()"
   ]
  },
  {
   "cell_type": "code",
   "execution_count": 25,
   "id": "2bef28bb",
   "metadata": {},
   "outputs": [
    {
     "name": "stdout",
     "output_type": "stream",
     "text": [
      "<class 'pandas.core.frame.DataFrame'>\n",
      "Index: 10 entries, 2011 to 2020\n",
      "Data columns (total 8 columns):\n",
      " #   Column  Non-Null Count  Dtype  \n",
      "---  ------  --------------  -----  \n",
      " 0   일반가구수   10 non-null     float64\n",
      " 1   합계(B)   10 non-null     float64\n",
      " 2   단독주택    10 non-null     float64\n",
      " 3   다가구주택   10 non-null     float64\n",
      " 4   아파트     10 non-null     float64\n",
      " 5   연립주택    10 non-null     float64\n",
      " 6   다세대주택   10 non-null     float64\n",
      " 7   주택보급률   10 non-null     float64\n",
      "dtypes: float64(8)\n",
      "memory usage: 1020.0+ bytes\n"
     ]
    }
   ],
   "source": [
    "Pohang.info()"
   ]
  },
  {
   "cell_type": "code",
   "execution_count": 26,
   "id": "0b399450",
   "metadata": {},
   "outputs": [
    {
     "data": {
      "text/plain": [
       "Index(['일반가구수', '합계(B)', '단독주택', '다가구주택', '아파트', '연립주택', '다세대주택', '주택보급률'], dtype='object')"
      ]
     },
     "execution_count": 26,
     "metadata": {},
     "output_type": "execute_result"
    }
   ],
   "source": [
    "Pohang.columns"
   ]
  },
  {
   "cell_type": "code",
   "execution_count": 36,
   "id": "c0bd826d",
   "metadata": {},
   "outputs": [
    {
     "data": {
      "image/png": "[encoded data removed]",
      "text/plain": [
       "<Figure size 864x576 with 1 Axes>"
      ]
     },
     "metadata": {
      "needs_background": "light"
     },
     "output_type": "display_data"
    }
   ],
   "source": [
    "plt.figure(figsize=(12,8))\n",
    "plt.plot(Pohang['일반가구수'], \"o-\", color='black', label='일반가구수')\n",
    "plt.plot(Pohang['단독주택'], \"o-\", color='blue')\n",
    "plt.plot(Pohang['다가구주택'], \"o-\", color='green')\n",
    "plt.plot(Pohang['아파트'], \"o-\", color='red')\n",
    "plt.yticks(np.arange(30000, 270000, 20000))\n",
    "plt.show()"
   ]
  },
  {
   "cell_type": "code",
   "execution_count": 13,
   "id": "bb0ab61d",
   "metadata": {},
   "outputs": [
    {
     "data": {
      "text/plain": [
       "array([ 30000,  50000,  70000,  90000, 110000, 130000, 150000, 170000,\n",
       "       190000, 210000, 230000, 250000])"
      ]
     },
     "execution_count": 13,
     "metadata": {},
     "output_type": "execute_result"
    }
   ],
   "source": [
    "np.arange(30000, 270000, 20000)"
   ]
  },
  {
   "cell_type": "code",
   "execution_count": null,
   "id": "32ce62d7",
   "metadata": {},
   "outputs": [],
   "source": []
  }
 ],
 "metadata": {
  "kernelspec": {
   "display_name": "Python 3 (ipykernel)",
   "language": "python",
   "name": "python3"
  },
  "language_info": {
   "codemirror_mode": {
    "name": "ipython",
    "version": 3
   },
   "file_extension": ".py",
   "mimetype": "text/x-python",
   "name": "python",
   "nbconvert_exporter": "python",
   "pygments_lexer": "ipython3",
   "version": "3.9.12"
  }
 },
 "nbformat": 4,
 "nbformat_minor": 5
}
