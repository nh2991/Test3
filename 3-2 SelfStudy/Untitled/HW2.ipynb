{
 "cells": [
  {
   "cell_type": "code",
   "execution_count": 1,
   "id": "d768c20c",
   "metadata": {},
   "outputs": [],
   "source": [
    "import numpy as np\n",
    "import pandas as pd\n",
    "from pandas import Series, DataFrame\n",
    "\n",
    "import matplotlib\n",
    "import matplotlib.pyplot as plt\n",
    "import seaborn as sns\n",
    "\n",
    "import scipy.stats as st\n",
    "import statsmodels.formula.api as smf\n",
    "import statsmodels.api as sm"
   ]
  },
  {
   "attachments": {},
   "cell_type": "markdown",
   "id": "72e1f840",
   "metadata": {},
   "source": [
    "2."
   ]
  },
  {
   "cell_type": "markdown",
   "id": "fa3d97f2",
   "metadata": {},
   "source": [
    "---"
   ]
  },
  {
   "attachments": {},
   "cell_type": "markdown",
   "id": "22c84c86",
   "metadata": {},
   "source": [
    "(a) Find a 95% confidence interval for the slope of the regression model, $\\beta_1$. On the basis of this confidence interval decide whether there is evidence of a significant negative linear association."
   ]
  },
  {
   "cell_type": "code",
   "execution_count": 2,
   "id": "77159b22",
   "metadata": {},
   "outputs": [],
   "source": [
    "indicators = pd.read_table(\"/Users/user/Desktop/Yonsei/Junior/3-2/Introduction to Data Analysis and Regression/Homework/indicators2.txt\", sep='\\t')"
   ]
  },
  {
   "cell_type": "code",
   "execution_count": 56,
   "id": "fbd91380",
   "metadata": {},
   "outputs": [
    {
     "data": {
      "text/html": [
       "<div>\n",
       "<style scoped>\n",
       "    .dataframe tbody tr th:only-of-type {\n",
       "        vertical-align: middle;\n",
       "    }\n",
       "\n",
       "    .dataframe tbody tr th {\n",
       "        vertical-align: top;\n",
       "    }\n",
       "\n",
       "    .dataframe thead th {\n",
       "        text-align: right;\n",
       "    }\n",
       "</style>\n",
       "<table border=\"1\" class=\"dataframe\">\n",
       "  <thead>\n",
       "    <tr style=\"text-align: right;\">\n",
       "      <th></th>\n",
       "      <th>PriceChange</th>\n",
       "      <th>LoanPaymentsOverdue</th>\n",
       "    </tr>\n",
       "  </thead>\n",
       "  <tbody>\n",
       "    <tr>\n",
       "      <th>Atlanta</th>\n",
       "      <td>1.2</td>\n",
       "      <td>4.55</td>\n",
       "    </tr>\n",
       "    <tr>\n",
       "      <th>Boston</th>\n",
       "      <td>-3.4</td>\n",
       "      <td>3.31</td>\n",
       "    </tr>\n",
       "    <tr>\n",
       "      <th>Chicago</th>\n",
       "      <td>-0.9</td>\n",
       "      <td>2.99</td>\n",
       "    </tr>\n",
       "    <tr>\n",
       "      <th>Dallas</th>\n",
       "      <td>0.8</td>\n",
       "      <td>4.26</td>\n",
       "    </tr>\n",
       "    <tr>\n",
       "      <th>Denver</th>\n",
       "      <td>-0.7</td>\n",
       "      <td>3.56</td>\n",
       "    </tr>\n",
       "  </tbody>\n",
       "</table>\n",
       "</div>"
      ],
      "text/plain": [
       "         PriceChange  LoanPaymentsOverdue\n",
       "Atlanta          1.2                 4.55\n",
       "Boston          -3.4                 3.31\n",
       "Chicago         -0.9                 2.99\n",
       "Dallas           0.8                 4.26\n",
       "Denver          -0.7                 3.56"
      ]
     },
     "execution_count": 56,
     "metadata": {},
     "output_type": "execute_result"
    }
   ],
   "source": [
    "indicators2 = indicators[['PriceChange','LoanPaymentsOverdue']]\n",
    "indicators2.head()"
   ]
  },
  {
   "cell_type": "code",
   "execution_count": 4,
   "id": "3cbc6bfc",
   "metadata": {},
   "outputs": [
    {
     "data": {
      "text/plain": [
       "-3.427777777777778"
      ]
     },
     "execution_count": 4,
     "metadata": {},
     "output_type": "execute_result"
    }
   ],
   "source": [
    "indicators2['PriceChange'].mean()"
   ]
  },
  {
   "cell_type": "code",
   "execution_count": 5,
   "id": "fb268e3e",
   "metadata": {},
   "outputs": [
    {
     "data": {
      "text/plain": [
       "3.532222222222222"
      ]
     },
     "execution_count": 5,
     "metadata": {},
     "output_type": "execute_result"
    }
   ],
   "source": [
    "indicators2['LoanPaymentsOverdue'].mean()"
   ]
  },
  {
   "cell_type": "code",
   "execution_count": 6,
   "id": "6f3ba187",
   "metadata": {},
   "outputs": [
    {
     "data": {
      "text/plain": [
       "18"
      ]
     },
     "execution_count": 6,
     "metadata": {},
     "output_type": "execute_result"
    }
   ],
   "source": [
    "len(indicators2.index)"
   ]
  },
  {
   "cell_type": "code",
   "execution_count": 96,
   "id": "529d1d80",
   "metadata": {},
   "outputs": [
    {
     "data": {
      "text/plain": [
       "19.16011111111111"
      ]
     },
     "execution_count": 96,
     "metadata": {},
     "output_type": "execute_result"
    }
   ],
   "source": [
    "SXX_hw2_2 = ((indicators2['LoanPaymentsOverdue'] - indicators2['LoanPaymentsOverdue'].mean())**2).sum()\n",
    "SXX_hw2_2"
   ]
  },
  {
   "cell_type": "code",
   "execution_count": 97,
   "id": "9eb6aaec",
   "metadata": {},
   "outputs": [
    {
     "data": {
      "text/plain": [
       "347.0161111111111"
      ]
     },
     "execution_count": 97,
     "metadata": {},
     "output_type": "execute_result"
    }
   ],
   "source": [
    "SYY_hw2_2 = ((indicators2['PriceChange'] - indicators2['PriceChange'].mean())**2).sum()\n",
    "SYY_hw2_2"
   ]
  },
  {
   "cell_type": "code",
   "execution_count": 98,
   "id": "0c432ae4",
   "metadata": {},
   "outputs": [
    {
     "data": {
      "text/plain": [
       "-43.0818888888889"
      ]
     },
     "execution_count": 98,
     "metadata": {},
     "output_type": "execute_result"
    }
   ],
   "source": [
    "SXY_hw2_2 = ((indicators2['LoanPaymentsOverdue'] \n",
    "        - indicators2['LoanPaymentsOverdue'].mean())*(indicators2['PriceChange'] \n",
    "                                                      - indicators2['PriceChange'].mean())).sum()\n",
    "SXY_hw2_2"
   ]
  },
  {
   "cell_type": "code",
   "execution_count": 99,
   "id": "cd1405b8",
   "metadata": {},
   "outputs": [
    {
     "data": {
      "text/plain": [
       "-2.248519783578152"
      ]
     },
     "execution_count": 99,
     "metadata": {},
     "output_type": "execute_result"
    }
   ],
   "source": [
    "beta1_hw2_2 = SXY_hw2_2 / SXX_hw2_2\n",
    "beta1_hw2_2"
   ]
  },
  {
   "cell_type": "code",
   "execution_count": 100,
   "id": "9588c746",
   "metadata": {},
   "outputs": [
    {
     "data": {
      "text/plain": [
       "4.514493768883272"
      ]
     },
     "execution_count": 100,
     "metadata": {},
     "output_type": "execute_result"
    }
   ],
   "source": [
    "beta0_hw2_2 = indicators2['PriceChange'].mean() - beta1_hw2_2 * indicators2['LoanPaymentsOverdue'].mean()\n",
    "beta0_hw2_2"
   ]
  },
  {
   "cell_type": "code",
   "execution_count": 101,
   "id": "368caa3f",
   "metadata": {},
   "outputs": [
    {
     "data": {
      "text/plain": [
       "3.953998226720397"
      ]
     },
     "execution_count": 101,
     "metadata": {},
     "output_type": "execute_result"
    }
   ],
   "source": [
    "s_hw2_2 = (((indicators2['PriceChange'] - beta0_hw2_2 - beta1_hw2_2 * indicators2['LoanPaymentsOverdue'])**2).sum() / (len(indicators2.index)-2))**(1/2)\n",
    "s_hw2_2"
   ]
  },
  {
   "cell_type": "code",
   "execution_count": 64,
   "id": "9f50dab4",
   "metadata": {},
   "outputs": [
    {
     "data": {
      "text/plain": [
       "2.1199052992210112"
      ]
     },
     "execution_count": 64,
     "metadata": {},
     "output_type": "execute_result"
    }
   ],
   "source": [
    "st.t.ppf(0.975, len(indicators2.index)-2)"
   ]
  },
  {
   "cell_type": "code",
   "execution_count": 104,
   "id": "9574e7a2",
   "metadata": {},
   "outputs": [
    {
     "data": {
      "text/plain": [
       "-4.163454263593569"
      ]
     },
     "execution_count": 104,
     "metadata": {},
     "output_type": "execute_result"
    }
   ],
   "source": [
    "beta1_hw2_2 - st.t.ppf(0.975, len(indicators2.index)-2) * s_hw2_2 / (SXX_hw2_2)**(1/2)"
   ]
  },
  {
   "cell_type": "code",
   "execution_count": 105,
   "id": "9ede2f6e",
   "metadata": {},
   "outputs": [
    {
     "data": {
      "text/plain": [
       "-0.3335853035627354"
      ]
     },
     "execution_count": 105,
     "metadata": {},
     "output_type": "execute_result"
    }
   ],
   "source": [
    "beta1_hw2_2 + st.t.ppf(0.975, len(indicators2.index)-2) * s_hw2_2 / (SXX_hw2_2)**(1/2)"
   ]
  },
  {
   "attachments": {},
   "cell_type": "markdown",
   "id": "81b5bf69",
   "metadata": {},
   "source": [
    "Thus, the 95% confidence interval is (-4.163454263593569, -0.3335853035627354)."
   ]
  },
  {
   "cell_type": "code",
   "execution_count": 106,
   "id": "dcfde399",
   "metadata": {},
   "outputs": [
    {
     "data": {
      "text/plain": [
       "-4.479585365429337"
      ]
     },
     "execution_count": 106,
     "metadata": {},
     "output_type": "execute_result"
    }
   ],
   "source": [
    "Estimate4_hw2_2 = beta0_hw2_2 + beta1_hw2_2 * 4\n",
    "Estimate4_hw2_2"
   ]
  },
  {
   "cell_type": "code",
   "execution_count": 107,
   "id": "ddefda6e",
   "metadata": {},
   "outputs": [],
   "source": [
    "lm_model_hw2_2 = smf.ols(formula='PriceChange ~ LoanPaymentsOverdue', data=indicators2).fit()"
   ]
  },
  {
   "cell_type": "code",
   "execution_count": 108,
   "id": "c9db15e4",
   "metadata": {},
   "outputs": [
    {
     "name": "stderr",
     "output_type": "stream",
     "text": [
      "/Users/user/opt/anaconda3/lib/python3.9/site-packages/scipy/stats/stats.py:1541: UserWarning: kurtosistest only valid for n>=20 ... continuing anyway, n=18\n",
      "  warnings.warn(\"kurtosistest only valid for n>=20 ... continuing \"\n"
     ]
    },
    {
     "data": {
      "text/html": [
       "<table class=\"simpletable\">\n",
       "<caption>OLS Regression Results</caption>\n",
       "<tr>\n",
       "  <th>Dep. Variable:</th>       <td>PriceChange</td>   <th>  R-squared:         </th> <td>   0.279</td>\n",
       "</tr>\n",
       "<tr>\n",
       "  <th>Model:</th>                   <td>OLS</td>       <th>  Adj. R-squared:    </th> <td>   0.234</td>\n",
       "</tr>\n",
       "<tr>\n",
       "  <th>Method:</th>             <td>Least Squares</td>  <th>  F-statistic:       </th> <td>   6.196</td>\n",
       "</tr>\n",
       "<tr>\n",
       "  <th>Date:</th>             <td>Sat, 21 Jan 2023</td> <th>  Prob (F-statistic):</th>  <td>0.0242</td> \n",
       "</tr>\n",
       "<tr>\n",
       "  <th>Time:</th>                 <td>23:16:51</td>     <th>  Log-Likelihood:    </th> <td> -49.226</td>\n",
       "</tr>\n",
       "<tr>\n",
       "  <th>No. Observations:</th>      <td>    18</td>      <th>  AIC:               </th> <td>   102.5</td>\n",
       "</tr>\n",
       "<tr>\n",
       "  <th>Df Residuals:</th>          <td>    16</td>      <th>  BIC:               </th> <td>   104.2</td>\n",
       "</tr>\n",
       "<tr>\n",
       "  <th>Df Model:</th>              <td>     1</td>      <th>                     </th>     <td> </td>   \n",
       "</tr>\n",
       "<tr>\n",
       "  <th>Covariance Type:</th>      <td>nonrobust</td>    <th>                     </th>     <td> </td>   \n",
       "</tr>\n",
       "</table>\n",
       "<table class=\"simpletable\">\n",
       "<tr>\n",
       "           <td></td>              <th>coef</th>     <th>std err</th>      <th>t</th>      <th>P>|t|</th>  <th>[0.025</th>    <th>0.975]</th>  \n",
       "</tr>\n",
       "<tr>\n",
       "  <th>Intercept</th>           <td>    4.5145</td> <td>    3.324</td> <td>    1.358</td> <td> 0.193</td> <td>   -2.532</td> <td>   11.561</td>\n",
       "</tr>\n",
       "<tr>\n",
       "  <th>LoanPaymentsOverdue</th> <td>   -2.2485</td> <td>    0.903</td> <td>   -2.489</td> <td> 0.024</td> <td>   -4.163</td> <td>   -0.334</td>\n",
       "</tr>\n",
       "</table>\n",
       "<table class=\"simpletable\">\n",
       "<tr>\n",
       "  <th>Omnibus:</th>       <td> 2.121</td> <th>  Durbin-Watson:     </th> <td>   2.009</td>\n",
       "</tr>\n",
       "<tr>\n",
       "  <th>Prob(Omnibus):</th> <td> 0.346</td> <th>  Jarque-Bera (JB):  </th> <td>   1.403</td>\n",
       "</tr>\n",
       "<tr>\n",
       "  <th>Skew:</th>          <td> 0.448</td> <th>  Prob(JB):          </th> <td>   0.496</td>\n",
       "</tr>\n",
       "<tr>\n",
       "  <th>Kurtosis:</th>      <td> 1.966</td> <th>  Cond. No.          </th> <td>    14.0</td>\n",
       "</tr>\n",
       "</table><br/><br/>Notes:<br/>[1] Standard Errors assume that the covariance matrix of the errors is correctly specified."
      ],
      "text/plain": [
       "<class 'statsmodels.iolib.summary.Summary'>\n",
       "\"\"\"\n",
       "                            OLS Regression Results                            \n",
       "==============================================================================\n",
       "Dep. Variable:            PriceChange   R-squared:                       0.279\n",
       "Model:                            OLS   Adj. R-squared:                  0.234\n",
       "Method:                 Least Squares   F-statistic:                     6.196\n",
       "Date:                Sat, 21 Jan 2023   Prob (F-statistic):             0.0242\n",
       "Time:                        23:16:51   Log-Likelihood:                -49.226\n",
       "No. Observations:                  18   AIC:                             102.5\n",
       "Df Residuals:                      16   BIC:                             104.2\n",
       "Df Model:                           1                                         \n",
       "Covariance Type:            nonrobust                                         \n",
       "=======================================================================================\n",
       "                          coef    std err          t      P>|t|      [0.025      0.975]\n",
       "---------------------------------------------------------------------------------------\n",
       "Intercept               4.5145      3.324      1.358      0.193      -2.532      11.561\n",
       "LoanPaymentsOverdue    -2.2485      0.903     -2.489      0.024      -4.163      -0.334\n",
       "==============================================================================\n",
       "Omnibus:                        2.121   Durbin-Watson:                   2.009\n",
       "Prob(Omnibus):                  0.346   Jarque-Bera (JB):                1.403\n",
       "Skew:                           0.448   Prob(JB):                        0.496\n",
       "Kurtosis:                       1.966   Cond. No.                         14.0\n",
       "==============================================================================\n",
       "\n",
       "Notes:\n",
       "[1] Standard Errors assume that the covariance matrix of the errors is correctly specified.\n",
       "\"\"\""
      ]
     },
     "execution_count": 108,
     "metadata": {},
     "output_type": "execute_result"
    }
   ],
   "source": [
    "lm_model_hw2_2.summary()"
   ]
  },
  {
   "cell_type": "markdown",
   "id": "0c5be1be",
   "metadata": {},
   "source": [
    "---"
   ]
  },
  {
   "attachments": {},
   "cell_type": "markdown",
   "id": "49e9bb3d",
   "metadata": {},
   "source": [
    "(b) Use the fitted regression model to estimate $E(Y|X=4)$. Find a 95% confidence interval for $E(Y|X=4)$. Is 0% a feasible value for $E(Y|X=4)$? Give a reason to support your answer."
   ]
  },
  {
   "cell_type": "code",
   "execution_count": 109,
   "id": "2581fd01",
   "metadata": {},
   "outputs": [
    {
     "data": {
      "text/plain": [
       "Intercept              4.514494\n",
       "LoanPaymentsOverdue   -2.248520\n",
       "dtype: float64"
      ]
     },
     "execution_count": 109,
     "metadata": {},
     "output_type": "execute_result"
    }
   ],
   "source": [
    "lm_model_hw2_2.params"
   ]
  },
  {
   "cell_type": "code",
   "execution_count": 22,
   "id": "da8b1779",
   "metadata": {},
   "outputs": [
    {
     "data": {
      "text/plain": [
       "0   -4.479585\n",
       "dtype: float64"
      ]
     },
     "execution_count": 22,
     "metadata": {},
     "output_type": "execute_result"
    }
   ],
   "source": [
    "lm_model_hw2_2.predict(DataFrame({\"LoanPaymentsOverdue\": [4]}))"
   ]
  },
  {
   "cell_type": "code",
   "execution_count": 110,
   "id": "4da49e13",
   "metadata": {},
   "outputs": [
    {
     "data": {
      "text/plain": [
       "0.903311332218041"
      ]
     },
     "execution_count": 110,
     "metadata": {},
     "output_type": "execute_result"
    }
   ],
   "source": [
    "lm_model_hw2_2.bse.LoanPaymentsOverdue"
   ]
  },
  {
   "cell_type": "code",
   "execution_count": 111,
   "id": "cfd4db22",
   "metadata": {},
   "outputs": [
    {
     "data": {
      "text/plain": [
       "0   -6.648849\n",
       "dtype: float64"
      ]
     },
     "execution_count": 111,
     "metadata": {},
     "output_type": "execute_result"
    }
   ],
   "source": [
    "lm_model_hw2_2.predict(DataFrame({\"LoanPaymentsOverdue\": [4]})) - st.t.ppf(0.975, len(indicators2.index)-2) * s_hw2_2 * ((1/len(indicators2.index) + (4 - indicators2['LoanPaymentsOverdue'].mean())**2 / SXX_hw2_2))**(1/2)"
   ]
  },
  {
   "cell_type": "code",
   "execution_count": 112,
   "id": "8c3e14b9",
   "metadata": {},
   "outputs": [
    {
     "data": {
      "text/plain": [
       "0   -2.310322\n",
       "dtype: float64"
      ]
     },
     "execution_count": 112,
     "metadata": {},
     "output_type": "execute_result"
    }
   ],
   "source": [
    "lm_model_hw2_2.predict(DataFrame({\"LoanPaymentsOverdue\": [4]})) + st.t.ppf(0.975, len(indicators2.index)-2) * s_hw2_2 * ((1/len(indicators2.index) + (4 - indicators2['LoanPaymentsOverdue'].mean())**2 / SXX_hw2_2))**(1/2)\n"
   ]
  },
  {
   "cell_type": "markdown",
   "id": "d633ca99",
   "metadata": {},
   "source": [
    "Thus, the 95% confidence interval for beta1 where x=4 is (-6.39386, -2.565311).  \n",
    "Therefore, 0% = 0.00 is not a feasible value for E(Y|X=4)."
   ]
  },
  {
   "cell_type": "code",
   "execution_count": 114,
   "id": "f3f46b40",
   "metadata": {},
   "outputs": [
    {
     "data": {
      "text/plain": [
       "<seaborn.axisgrid.FacetGrid at 0x7fdd1c03ff10>"
      ]
     },
     "execution_count": 114,
     "metadata": {},
     "output_type": "execute_result"
    },
    {
     "data": {
      "image/png": "[encoded data removed]",
      "text/plain": [
       "<Figure size 360x360 with 1 Axes>"
      ]
     },
     "metadata": {
      "needs_background": "light"
     },
     "output_type": "display_data"
    }
   ],
   "source": [
    "sns.lmplot(x='LoanPaymentsOverdue', y='PriceChange', data=indicators)"
   ]
  },
  {
   "cell_type": "markdown",
   "id": "39590dcf",
   "metadata": {},
   "source": [
    "---"
   ]
  },
  {
   "cell_type": "markdown",
   "id": "ea011a9a",
   "metadata": {},
   "source": [
    "3."
   ]
  },
  {
   "attachments": {},
   "cell_type": "markdown",
   "id": "69ba3efa",
   "metadata": {},
   "source": [
    "(a) Find a 95% confidence interval for the start-up time, i.e. $\\beta_0$."
   ]
  },
  {
   "cell_type": "code",
   "execution_count": 120,
   "id": "439caba8",
   "metadata": {},
   "outputs": [],
   "source": [
    "invoices = pd.read_table(\"/Users/user/Desktop/Yonsei/Junior/3-2/Introduction to Data Analysis and Regression/Homework/invoices.txt\", sep=\"\\t\")"
   ]
  },
  {
   "cell_type": "code",
   "execution_count": 121,
   "id": "889cdc33",
   "metadata": {},
   "outputs": [
    {
     "data": {
      "text/html": [
       "<div>\n",
       "<style scoped>\n",
       "    .dataframe tbody tr th:only-of-type {\n",
       "        vertical-align: middle;\n",
       "    }\n",
       "\n",
       "    .dataframe tbody tr th {\n",
       "        vertical-align: top;\n",
       "    }\n",
       "\n",
       "    .dataframe thead th {\n",
       "        text-align: right;\n",
       "    }\n",
       "</style>\n",
       "<table border=\"1\" class=\"dataframe\">\n",
       "  <thead>\n",
       "    <tr style=\"text-align: right;\">\n",
       "      <th></th>\n",
       "      <th>Day</th>\n",
       "      <th>Invoices</th>\n",
       "      <th>Time</th>\n",
       "    </tr>\n",
       "  </thead>\n",
       "  <tbody>\n",
       "    <tr>\n",
       "      <th>0</th>\n",
       "      <td>1</td>\n",
       "      <td>149</td>\n",
       "      <td>2.1</td>\n",
       "    </tr>\n",
       "    <tr>\n",
       "      <th>1</th>\n",
       "      <td>2</td>\n",
       "      <td>60</td>\n",
       "      <td>1.8</td>\n",
       "    </tr>\n",
       "    <tr>\n",
       "      <th>2</th>\n",
       "      <td>3</td>\n",
       "      <td>188</td>\n",
       "      <td>2.3</td>\n",
       "    </tr>\n",
       "    <tr>\n",
       "      <th>3</th>\n",
       "      <td>4</td>\n",
       "      <td>23</td>\n",
       "      <td>0.8</td>\n",
       "    </tr>\n",
       "    <tr>\n",
       "      <th>4</th>\n",
       "      <td>5</td>\n",
       "      <td>201</td>\n",
       "      <td>2.7</td>\n",
       "    </tr>\n",
       "  </tbody>\n",
       "</table>\n",
       "</div>"
      ],
      "text/plain": [
       "   Day  Invoices  Time\n",
       "0    1       149   2.1\n",
       "1    2        60   1.8\n",
       "2    3       188   2.3\n",
       "3    4        23   0.8\n",
       "4    5       201   2.7"
      ]
     },
     "execution_count": 121,
     "metadata": {},
     "output_type": "execute_result"
    }
   ],
   "source": [
    "invoices.head()"
   ]
  },
  {
   "cell_type": "code",
   "execution_count": 122,
   "id": "5a4b5a1f",
   "metadata": {},
   "outputs": [],
   "source": [
    "lm_model_hw2_3 = smf.ols('Time~Invoices', data=invoices).fit()"
   ]
  },
  {
   "cell_type": "code",
   "execution_count": 123,
   "id": "154864af",
   "metadata": {},
   "outputs": [
    {
     "data": {
      "text/html": [
       "<table class=\"simpletable\">\n",
       "<caption>OLS Regression Results</caption>\n",
       "<tr>\n",
       "  <th>Dep. Variable:</th>          <td>Time</td>       <th>  R-squared:         </th> <td>   0.872</td>\n",
       "</tr>\n",
       "<tr>\n",
       "  <th>Model:</th>                   <td>OLS</td>       <th>  Adj. R-squared:    </th> <td>   0.867</td>\n",
       "</tr>\n",
       "<tr>\n",
       "  <th>Method:</th>             <td>Least Squares</td>  <th>  F-statistic:       </th> <td>   190.4</td>\n",
       "</tr>\n",
       "<tr>\n",
       "  <th>Date:</th>             <td>Sat, 21 Jan 2023</td> <th>  Prob (F-statistic):</th> <td>5.17e-14</td>\n",
       "</tr>\n",
       "<tr>\n",
       "  <th>Time:</th>                 <td>23:19:01</td>     <th>  Log-Likelihood:    </th> <td> -8.2528</td>\n",
       "</tr>\n",
       "<tr>\n",
       "  <th>No. Observations:</th>      <td>    30</td>      <th>  AIC:               </th> <td>   20.51</td>\n",
       "</tr>\n",
       "<tr>\n",
       "  <th>Df Residuals:</th>          <td>    28</td>      <th>  BIC:               </th> <td>   23.31</td>\n",
       "</tr>\n",
       "<tr>\n",
       "  <th>Df Model:</th>              <td>     1</td>      <th>                     </th>     <td> </td>   \n",
       "</tr>\n",
       "<tr>\n",
       "  <th>Covariance Type:</th>      <td>nonrobust</td>    <th>                     </th>     <td> </td>   \n",
       "</tr>\n",
       "</table>\n",
       "<table class=\"simpletable\">\n",
       "<tr>\n",
       "      <td></td>         <th>coef</th>     <th>std err</th>      <th>t</th>      <th>P>|t|</th>  <th>[0.025</th>    <th>0.975]</th>  \n",
       "</tr>\n",
       "<tr>\n",
       "  <th>Intercept</th> <td>    0.6417</td> <td>    0.122</td> <td>    5.248</td> <td> 0.000</td> <td>    0.391</td> <td>    0.892</td>\n",
       "</tr>\n",
       "<tr>\n",
       "  <th>Invoices</th>  <td>    0.0113</td> <td>    0.001</td> <td>   13.797</td> <td> 0.000</td> <td>    0.010</td> <td>    0.013</td>\n",
       "</tr>\n",
       "</table>\n",
       "<table class=\"simpletable\">\n",
       "<tr>\n",
       "  <th>Omnibus:</th>       <td> 2.815</td> <th>  Durbin-Watson:     </th> <td>   1.760</td>\n",
       "</tr>\n",
       "<tr>\n",
       "  <th>Prob(Omnibus):</th> <td> 0.245</td> <th>  Jarque-Bera (JB):  </th> <td>   1.341</td>\n",
       "</tr>\n",
       "<tr>\n",
       "  <th>Skew:</th>          <td>-0.042</td> <th>  Prob(JB):          </th> <td>   0.511</td>\n",
       "</tr>\n",
       "<tr>\n",
       "  <th>Kurtosis:</th>      <td> 1.968</td> <th>  Cond. No.          </th> <td>    303.</td>\n",
       "</tr>\n",
       "</table><br/><br/>Notes:<br/>[1] Standard Errors assume that the covariance matrix of the errors is correctly specified."
      ],
      "text/plain": [
       "<class 'statsmodels.iolib.summary.Summary'>\n",
       "\"\"\"\n",
       "                            OLS Regression Results                            \n",
       "==============================================================================\n",
       "Dep. Variable:                   Time   R-squared:                       0.872\n",
       "Model:                            OLS   Adj. R-squared:                  0.867\n",
       "Method:                 Least Squares   F-statistic:                     190.4\n",
       "Date:                Sat, 21 Jan 2023   Prob (F-statistic):           5.17e-14\n",
       "Time:                        23:19:01   Log-Likelihood:                -8.2528\n",
       "No. Observations:                  30   AIC:                             20.51\n",
       "Df Residuals:                      28   BIC:                             23.31\n",
       "Df Model:                           1                                         \n",
       "Covariance Type:            nonrobust                                         \n",
       "==============================================================================\n",
       "                 coef    std err          t      P>|t|      [0.025      0.975]\n",
       "------------------------------------------------------------------------------\n",
       "Intercept      0.6417      0.122      5.248      0.000       0.391       0.892\n",
       "Invoices       0.0113      0.001     13.797      0.000       0.010       0.013\n",
       "==============================================================================\n",
       "Omnibus:                        2.815   Durbin-Watson:                   1.760\n",
       "Prob(Omnibus):                  0.245   Jarque-Bera (JB):                1.341\n",
       "Skew:                          -0.042   Prob(JB):                        0.511\n",
       "Kurtosis:                       1.968   Cond. No.                         303.\n",
       "==============================================================================\n",
       "\n",
       "Notes:\n",
       "[1] Standard Errors assume that the covariance matrix of the errors is correctly specified.\n",
       "\"\"\""
      ]
     },
     "execution_count": 123,
     "metadata": {},
     "output_type": "execute_result"
    }
   ],
   "source": [
    "lm_model_hw2_3.summary()"
   ]
  },
  {
   "cell_type": "markdown",
   "id": "bd050b9d",
   "metadata": {},
   "source": [
    "Thus, the 95% confidence interval for beta0 = (0.391, 0.892)."
   ]
  },
  {
   "cell_type": "markdown",
   "id": "9fa128df",
   "metadata": {},
   "source": [
    "---"
   ]
  },
  {
   "attachments": {},
   "cell_type": "markdown",
   "id": "1a4ce0b5",
   "metadata": {},
   "source": [
    "(b) Suppose that $\\beta_1 = 0.01$. Test the null hypothesis $H_0 : \\beta_1 = 0.01$ against a two-sided alternative."
   ]
  },
  {
   "cell_type": "code",
   "execution_count": 124,
   "id": "1aa4f742",
   "metadata": {},
   "outputs": [
    {
     "data": {
      "text/plain": [
       "0.0007872634462536831"
      ]
     },
     "execution_count": 124,
     "metadata": {},
     "output_type": "execute_result"
    }
   ],
   "source": [
    "lm_model_hw2_3.HC3_se.Invoices"
   ]
  },
  {
   "cell_type": "code",
   "execution_count": 125,
   "id": "127a08ae",
   "metadata": {},
   "outputs": [
    {
     "data": {
      "text/plain": [
       "1.640675810336413"
      ]
     },
     "execution_count": 125,
     "metadata": {},
     "output_type": "execute_result"
    }
   ],
   "source": [
    "(lm_model_hw2_3.params.Invoices - 0.01) / lm_model_hw2_3.HC3_se.Invoices"
   ]
  },
  {
   "cell_type": "code",
   "execution_count": 126,
   "id": "8b17f04c",
   "metadata": {},
   "outputs": [
    {
     "data": {
      "text/plain": [
       "2.048407141795244"
      ]
     },
     "execution_count": 126,
     "metadata": {},
     "output_type": "execute_result"
    }
   ],
   "source": [
    "st.t.ppf(0.975, len(invoices.index)-2)"
   ]
  },
  {
   "cell_type": "markdown",
   "id": "3c326b3c",
   "metadata": {},
   "source": [
    "Thus, 1.64 < 2.04, so that we cannot reject the null.  \n",
    "Therefore, we cannot say that $\\beta_1 = 0.01$."
   ]
  },
  {
   "cell_type": "markdown",
   "id": "2bb020ff",
   "metadata": {},
   "source": [
    "---"
   ]
  },
  {
   "cell_type": "markdown",
   "id": "282d0b5b",
   "metadata": {},
   "source": [
    "(c) Find a point estimate and a 95% prediction interval for the time taken to process 130 invoices."
   ]
  },
  {
   "cell_type": "code",
   "execution_count": 127,
   "id": "1e8502d0",
   "metadata": {},
   "outputs": [
    {
     "data": {
      "text/plain": [
       "0    2.109624\n",
       "dtype: float64"
      ]
     },
     "execution_count": 127,
     "metadata": {},
     "output_type": "execute_result"
    }
   ],
   "source": [
    "lm_model_hw2_3.predict(DataFrame({\"Invoices\":[130]}))"
   ]
  },
  {
   "cell_type": "code",
   "execution_count": 128,
   "id": "a55e0151",
   "metadata": {},
   "outputs": [
    {
     "data": {
      "text/plain": [
       "162366.96666666662"
      ]
     },
     "execution_count": 128,
     "metadata": {},
     "output_type": "execute_result"
    }
   ],
   "source": [
    "SXX_hw2_3 =((invoices['Invoices'] - invoices['Invoices'].mean())**2).sum()\n",
    "SXX_hw2_3"
   ]
  },
  {
   "cell_type": "code",
   "execution_count": 129,
   "id": "a6a6610f",
   "metadata": {},
   "outputs": [
    {
     "data": {
      "text/plain": [
       "0.3297733332485559"
      ]
     },
     "execution_count": 129,
     "metadata": {},
     "output_type": "execute_result"
    }
   ],
   "source": [
    "s_hw2_3 = (sum((lm_model_hw2_3.resid)**2) / (len(invoices.index)-2))**(1/2)\n",
    "s_hw2_3"
   ]
  },
  {
   "cell_type": "code",
   "execution_count": 130,
   "id": "f18bf34e",
   "metadata": {},
   "outputs": [
    {
     "data": {
      "text/plain": [
       "0.3240377073104922"
      ]
     },
     "execution_count": 130,
     "metadata": {},
     "output_type": "execute_result"
    }
   ],
   "source": [
    "lm_model_hw2_3.resid.std() # a little bit different from residual standard error."
   ]
  },
  {
   "cell_type": "code",
   "execution_count": 132,
   "id": "8c86d834",
   "metadata": {},
   "outputs": [
    {
     "data": {
      "text/plain": [
       "0.3352245025503466"
      ]
     },
     "execution_count": 132,
     "metadata": {},
     "output_type": "execute_result"
    }
   ],
   "source": [
    "se130_hw2_3 = s_hw2_3 * (1 + (1/len(invoices.index)) + (((130 - invoices['Invoices'].mean())**2) / SXX_hw2_3))**(1/2)\n",
    "se130_hw2_3"
   ]
  },
  {
   "cell_type": "code",
   "execution_count": 133,
   "id": "bf4b33a1",
   "metadata": {},
   "outputs": [
    {
     "name": "stdout",
     "output_type": "stream",
     "text": [
      "0    1.422947\n",
      "dtype: float64\n",
      "0    2.7963\n",
      "dtype: float64\n"
     ]
    }
   ],
   "source": [
    "print(lm_model_hw2_3.predict(DataFrame({\"Invoices\":[130]})) - st.t.ppf(0.975, len(invoices.index)-2) * se130_hw2_3)\n",
    "print(lm_model_hw2_3.predict(DataFrame({\"Invoices\":[130]})) + st.t.ppf(0.975, len(invoices.index)-2) * se130_hw2_3)"
   ]
  },
  {
   "attachments": {},
   "cell_type": "markdown",
   "id": "3437f4a2",
   "metadata": {},
   "source": [
    "Thus, the point estimate is 2.109624, and 95% prediction interval is (1.422947, 2.7963)."
   ]
  },
  {
   "cell_type": "code",
   "execution_count": 134,
   "id": "2b134357",
   "metadata": {},
   "outputs": [
    {
     "data": {
      "text/plain": [
       "<seaborn.axisgrid.FacetGrid at 0x7fdd381ec850>"
      ]
     },
     "execution_count": 134,
     "metadata": {},
     "output_type": "execute_result"
    },
    {
     "data": {
      "image/png": "[encoded data removed]",
      "text/plain": [
       "<Figure size 360x360 with 1 Axes>"
      ]
     },
     "metadata": {
      "needs_background": "light"
     },
     "output_type": "display_data"
    }
   ],
   "source": [
    "sns.lmplot(x='Invoices', y='Time', data=invoices)"
   ]
  },
  {
   "cell_type": "code",
   "execution_count": null,
   "id": "d6a108a2",
   "metadata": {},
   "outputs": [],
   "source": []
  }
 ],
 "metadata": {
  "kernelspec": {
   "display_name": "Python 3",
   "language": "python",
   "name": "python3"
  },
  "language_info": {
   "codemirror_mode": {
    "name": "ipython",
    "version": 3
   },
   "file_extension": ".py",
   "mimetype": "text/x-python",
   "name": "python",
   "nbconvert_exporter": "python",
   "pygments_lexer": "ipython3",
   "version": "3.9.12 (main, Apr  5 2022, 01:53:17) \n[Clang 12.0.0 ]"
  },
  "vscode": {
   "interpreter": {
    "hash": "701d4f28dcd0866722f5108a3a4cbcd08882d26398b6d44117e791d7b8102912"
   }
  }
 },
 "nbformat": 4,
 "nbformat_minor": 5
}
