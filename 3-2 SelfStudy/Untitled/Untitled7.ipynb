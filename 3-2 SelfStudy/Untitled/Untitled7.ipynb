{
 "cells": [
  {
   "cell_type": "code",
   "execution_count": 2,
   "id": "21cb94cd",
   "metadata": {},
   "outputs": [],
   "source": [
    "import numpy as np\n",
    "import pandas as pd\n",
    "from pandas import Series, DataFrame\n",
    "\n",
    "import matplotlib\n",
    "import matplotlib.pyplot as plt"
   ]
  },
  {
   "cell_type": "code",
   "execution_count": 29,
   "id": "d78585aa",
   "metadata": {},
   "outputs": [],
   "source": [
    "Import = Series([3567708, 3931173, 4126404, 4446231, 3555278, 3710778, 3778051, 2600774, 2967167, 773673, 631371])"
   ]
  },
  {
   "cell_type": "code",
   "execution_count": 14,
   "id": "cd67954f",
   "metadata": {},
   "outputs": [
    {
     "data": {
      "text/html": [
       "<div>\n",
       "<style scoped>\n",
       "    .dataframe tbody tr th:only-of-type {\n",
       "        vertical-align: middle;\n",
       "    }\n",
       "\n",
       "    .dataframe tbody tr th {\n",
       "        vertical-align: top;\n",
       "    }\n",
       "\n",
       "    .dataframe thead th {\n",
       "        text-align: right;\n",
       "    }\n",
       "</style>\n",
       "<table border=\"1\" class=\"dataframe\">\n",
       "  <thead>\n",
       "    <tr style=\"text-align: right;\">\n",
       "      <th></th>\n",
       "    </tr>\n",
       "  </thead>\n",
       "  <tbody>\n",
       "    <tr>\n",
       "      <th>a</th>\n",
       "    </tr>\n",
       "    <tr>\n",
       "      <th>b</th>\n",
       "    </tr>\n",
       "  </tbody>\n",
       "</table>\n",
       "</div>"
      ],
      "text/plain": [
       "Empty DataFrame\n",
       "Columns: []\n",
       "Index: [a, b]"
      ]
     },
     "execution_count": 14,
     "metadata": {},
     "output_type": "execute_result"
    }
   ],
   "source": []
  },
  {
   "cell_type": "code",
   "execution_count": 31,
   "id": "2e104b97",
   "metadata": {},
   "outputs": [],
   "source": [
    "Export = Series([2789351, 2880104, 3218382, 3164650 ,2696538 , 2820914 ,1771852 ,242710 ,277777 ,89299 ,81963])"
   ]
  },
  {
   "cell_type": "code",
   "execution_count": 40,
   "id": "528ae3f7",
   "metadata": {},
   "outputs": [
    {
     "data": {
      "text/plain": [
       "([<matplotlib.axis.XTick at 0x7fd5b971b850>,\n",
       "  <matplotlib.axis.XTick at 0x7fd5b971b820>,\n",
       "  <matplotlib.axis.XTick at 0x7fd5b9716f40>,\n",
       "  <matplotlib.axis.XTick at 0x7fd5ddf8a580>,\n",
       "  <matplotlib.axis.XTick at 0x7fd5ddf8acd0>,\n",
       "  <matplotlib.axis.XTick at 0x7fd5ddf91460>,\n",
       "  <matplotlib.axis.XTick at 0x7fd5ddf91bb0>,\n",
       "  <matplotlib.axis.XTick at 0x7fd5ddf96340>,\n",
       "  <matplotlib.axis.XTick at 0x7fd5ddf91c10>,\n",
       "  <matplotlib.axis.XTick at 0x7fd5ddf8aa60>,\n",
       "  <matplotlib.axis.XTick at 0x7fd5ddf96b20>],\n",
       " [Text(0, 0, ''),\n",
       "  Text(0, 0, ''),\n",
       "  Text(0, 0, ''),\n",
       "  Text(0, 0, ''),\n",
       "  Text(0, 0, ''),\n",
       "  Text(0, 0, ''),\n",
       "  Text(0, 0, ''),\n",
       "  Text(0, 0, ''),\n",
       "  Text(0, 0, ''),\n",
       "  Text(0, 0, ''),\n",
       "  Text(0, 0, '')])"
      ]
     },
     "execution_count": 40,
     "metadata": {},
     "output_type": "execute_result"
    },
    {
     "data": {
      "image/png": "[encoded data removed]",
      "text/plain": [
       "<Figure size 648x432 with 1 Axes>"
      ]
     },
     "metadata": {
      "needs_background": "light"
     },
     "output_type": "display_data"
    }
   ],
   "source": [
    "plt.figure(figsize=(9,6))\n",
    "plt.plot(np.arange(2011, 2022), Export, 'ro:', label='Export')\n",
    "plt.plot(np.arange(2011, 2022), Import, 'bo:', label='Import')\n",
    "plt.legend(loc='lower left')\n",
    "plt.title('Export and Import of DPRK', fontsize=12)\n",
    "plt.xlabel('Year', fontsize=10)\n",
    "plt.ylabel('Export (million)', fontsize=10)\n",
    "plt.xticks(np.arange(2011, 2022))\n"
   ]
  },
  {
   "cell_type": "code",
   "execution_count": null,
   "id": "3d528f69",
   "metadata": {},
   "outputs": [],
   "source": []
  },
  {
   "cell_type": "code",
   "execution_count": null,
   "id": "05c13c5d",
   "metadata": {},
   "outputs": [],
   "source": []
  }
 ],
 "metadata": {
  "kernelspec": {
   "display_name": "Python 3 (ipykernel)",
   "language": "python",
   "name": "python3"
  },
  "language_info": {
   "codemirror_mode": {
    "name": "ipython",
    "version": 3
   },
   "file_extension": ".py",
   "mimetype": "text/x-python",
   "name": "python",
   "nbconvert_exporter": "python",
   "pygments_lexer": "ipython3",
   "version": "3.9.12"
  }
 },
 "nbformat": 4,
 "nbformat_minor": 5
}
