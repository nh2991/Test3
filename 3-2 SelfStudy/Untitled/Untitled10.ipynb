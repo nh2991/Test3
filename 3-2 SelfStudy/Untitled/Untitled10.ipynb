{
 "cells": [
  {
   "cell_type": "code",
   "execution_count": 4,
   "id": "6450116c",
   "metadata": {},
   "outputs": [],
   "source": [
    "import numpy as np\n",
    "import pandas as pd\n",
    "from pandas import Series, DataFrame\n",
    "\n",
    "import matplotlib\n",
    "import matplotlib.pyplot as plt\n",
    "import seaborn as sns"
   ]
  },
  {
   "cell_type": "code",
   "execution_count": 55,
   "id": "066e2506",
   "metadata": {},
   "outputs": [],
   "source": [
    "indicators = pd.read_table(\"/Users/user/Desktop/Yonsei/Junior/3-2/Introduction to Data Analysis and Regression/Homework/indicators2.txt\", sep='\\t')"
   ]
  },
  {
   "cell_type": "code",
   "execution_count": 56,
   "id": "19bb988b",
   "metadata": {},
   "outputs": [
    {
     "data": {
      "text/html": [
       "<div>\n",
       "<style scoped>\n",
       "    .dataframe tbody tr th:only-of-type {\n",
       "        vertical-align: middle;\n",
       "    }\n",
       "\n",
       "    .dataframe tbody tr th {\n",
       "        vertical-align: top;\n",
       "    }\n",
       "\n",
       "    .dataframe thead th {\n",
       "        text-align: right;\n",
       "    }\n",
       "</style>\n",
       "<table border=\"1\" class=\"dataframe\">\n",
       "  <thead>\n",
       "    <tr style=\"text-align: right;\">\n",
       "      <th></th>\n",
       "      <th>MetroArea</th>\n",
       "      <th>PriceChange</th>\n",
       "      <th>LoanPaymentsOverdue</th>\n",
       "    </tr>\n",
       "  </thead>\n",
       "  <tbody>\n",
       "    <tr>\n",
       "      <th>Atlanta</th>\n",
       "      <td>NaN</td>\n",
       "      <td>1.2</td>\n",
       "      <td>4.55</td>\n",
       "    </tr>\n",
       "    <tr>\n",
       "      <th>Boston</th>\n",
       "      <td>NaN</td>\n",
       "      <td>-3.4</td>\n",
       "      <td>3.31</td>\n",
       "    </tr>\n",
       "    <tr>\n",
       "      <th>Chicago</th>\n",
       "      <td>NaN</td>\n",
       "      <td>-0.9</td>\n",
       "      <td>2.99</td>\n",
       "    </tr>\n",
       "    <tr>\n",
       "      <th>Dallas</th>\n",
       "      <td>NaN</td>\n",
       "      <td>0.8</td>\n",
       "      <td>4.26</td>\n",
       "    </tr>\n",
       "    <tr>\n",
       "      <th>Denver</th>\n",
       "      <td>NaN</td>\n",
       "      <td>-0.7</td>\n",
       "      <td>3.56</td>\n",
       "    </tr>\n",
       "    <tr>\n",
       "      <th>Detroit</th>\n",
       "      <td>NaN</td>\n",
       "      <td>-9.7</td>\n",
       "      <td>4.71</td>\n",
       "    </tr>\n",
       "    <tr>\n",
       "      <th>LasVegas</th>\n",
       "      <td>NaN</td>\n",
       "      <td>-6.1</td>\n",
       "      <td>4.90</td>\n",
       "    </tr>\n",
       "    <tr>\n",
       "      <th>LosAngeles</th>\n",
       "      <td>NaN</td>\n",
       "      <td>-4.8</td>\n",
       "      <td>3.05</td>\n",
       "    </tr>\n",
       "    <tr>\n",
       "      <th>MiamiFt.Lauderdale</th>\n",
       "      <td>NaN</td>\n",
       "      <td>-6.4</td>\n",
       "      <td>5.63</td>\n",
       "    </tr>\n",
       "    <tr>\n",
       "      <th>MinneapolisStPaul</th>\n",
       "      <td>NaN</td>\n",
       "      <td>-3.4</td>\n",
       "      <td>3.01</td>\n",
       "    </tr>\n",
       "    <tr>\n",
       "      <th>NewYork</th>\n",
       "      <td>NaN</td>\n",
       "      <td>-3.8</td>\n",
       "      <td>3.29</td>\n",
       "    </tr>\n",
       "    <tr>\n",
       "      <th>Phoenix</th>\n",
       "      <td>NaN</td>\n",
       "      <td>-7.3</td>\n",
       "      <td>3.26</td>\n",
       "    </tr>\n",
       "    <tr>\n",
       "      <th>Portland</th>\n",
       "      <td>NaN</td>\n",
       "      <td>3.8</td>\n",
       "      <td>1.93</td>\n",
       "    </tr>\n",
       "    <tr>\n",
       "      <th>SanDiego</th>\n",
       "      <td>NaN</td>\n",
       "      <td>-7.8</td>\n",
       "      <td>3.45</td>\n",
       "    </tr>\n",
       "    <tr>\n",
       "      <th>SanFrancisco</th>\n",
       "      <td>NaN</td>\n",
       "      <td>-4.1</td>\n",
       "      <td>2.29</td>\n",
       "    </tr>\n",
       "    <tr>\n",
       "      <th>Seattle</th>\n",
       "      <td>NaN</td>\n",
       "      <td>6.9</td>\n",
       "      <td>1.65</td>\n",
       "    </tr>\n",
       "    <tr>\n",
       "      <th>Tampa</th>\n",
       "      <td>NaN</td>\n",
       "      <td>-8.8</td>\n",
       "      <td>4.60</td>\n",
       "    </tr>\n",
       "    <tr>\n",
       "      <th>WashingtonDC</th>\n",
       "      <td>NaN</td>\n",
       "      <td>-7.2</td>\n",
       "      <td>3.14</td>\n",
       "    </tr>\n",
       "  </tbody>\n",
       "</table>\n",
       "</div>"
      ],
      "text/plain": [
       "                    MetroArea  PriceChange  LoanPaymentsOverdue\n",
       "Atlanta                   NaN          1.2                 4.55\n",
       "Boston                    NaN         -3.4                 3.31\n",
       "Chicago                   NaN         -0.9                 2.99\n",
       "Dallas                    NaN          0.8                 4.26\n",
       "Denver                    NaN         -0.7                 3.56\n",
       "Detroit                   NaN         -9.7                 4.71\n",
       "LasVegas                  NaN         -6.1                 4.90\n",
       "LosAngeles                NaN         -4.8                 3.05\n",
       "MiamiFt.Lauderdale        NaN         -6.4                 5.63\n",
       "MinneapolisStPaul         NaN         -3.4                 3.01\n",
       "NewYork                   NaN         -3.8                 3.29\n",
       "Phoenix                   NaN         -7.3                 3.26\n",
       "Portland                  NaN          3.8                 1.93\n",
       "SanDiego                  NaN         -7.8                 3.45\n",
       "SanFrancisco              NaN         -4.1                 2.29\n",
       "Seattle                   NaN          6.9                 1.65\n",
       "Tampa                     NaN         -8.8                 4.60\n",
       "WashingtonDC              NaN         -7.2                 3.14"
      ]
     },
     "execution_count": 56,
     "metadata": {},
     "output_type": "execute_result"
    }
   ],
   "source": [
    "indicators"
   ]
  },
  {
   "cell_type": "code",
   "execution_count": 58,
   "id": "94de5e46",
   "metadata": {},
   "outputs": [
    {
     "data": {
      "text/plain": [
       "-3.427777777777778"
      ]
     },
     "execution_count": 58,
     "metadata": {},
     "output_type": "execute_result"
    }
   ],
   "source": [
    "indicators['PriceChange'].mean()"
   ]
  },
  {
   "cell_type": "code",
   "execution_count": 59,
   "id": "e635ea55",
   "metadata": {},
   "outputs": [
    {
     "data": {
      "text/plain": [
       "3.532222222222222"
      ]
     },
     "execution_count": 59,
     "metadata": {},
     "output_type": "execute_result"
    }
   ],
   "source": [
    "indicators['LoanPaymentsOverdue'].mean()"
   ]
  },
  {
   "cell_type": "code",
   "execution_count": 74,
   "id": "18aed9d6",
   "metadata": {},
   "outputs": [
    {
     "data": {
      "text/plain": [
       "18"
      ]
     },
     "execution_count": 74,
     "metadata": {},
     "output_type": "execute_result"
    }
   ],
   "source": [
    "len(indicators.index)"
   ]
  },
  {
   "cell_type": "code",
   "execution_count": 61,
   "id": "c2a3bf49",
   "metadata": {},
   "outputs": [
    {
     "data": {
      "text/plain": [
       "19.16011111111111"
      ]
     },
     "execution_count": 61,
     "metadata": {},
     "output_type": "execute_result"
    }
   ],
   "source": [
    "SXX = ((indicators['LoanPaymentsOverdue'] - indicators['LoanPaymentsOverdue'].mean())**2).sum()\n",
    "SXX"
   ]
  },
  {
   "cell_type": "code",
   "execution_count": 62,
   "id": "6e95955e",
   "metadata": {},
   "outputs": [
    {
     "data": {
      "text/plain": [
       "347.0161111111111"
      ]
     },
     "execution_count": 62,
     "metadata": {},
     "output_type": "execute_result"
    }
   ],
   "source": [
    "SYY = ((indicators['PriceChange'] - indicators['PriceChange'].mean())**2).sum()\n",
    "SYY"
   ]
  },
  {
   "cell_type": "code",
   "execution_count": 63,
   "id": "6d96caa5",
   "metadata": {},
   "outputs": [
    {
     "data": {
      "text/plain": [
       "-43.0818888888889"
      ]
     },
     "execution_count": 63,
     "metadata": {},
     "output_type": "execute_result"
    }
   ],
   "source": [
    "SXY = ((indicators['LoanPaymentsOverdue'] - indicators['LoanPaymentsOverdue'].mean())*(indicators['PriceChange'] - indicators['PriceChange'].mean())).sum()\n",
    "SXY"
   ]
  },
  {
   "cell_type": "code",
   "execution_count": 64,
   "id": "0724ce27",
   "metadata": {},
   "outputs": [
    {
     "data": {
      "text/plain": [
       "-2.248519783578152"
      ]
     },
     "execution_count": 64,
     "metadata": {},
     "output_type": "execute_result"
    }
   ],
   "source": [
    "beta1 = SXY / SXX\n",
    "beta1"
   ]
  },
  {
   "cell_type": "code",
   "execution_count": 65,
   "id": "5304a380",
   "metadata": {},
   "outputs": [
    {
     "data": {
      "text/plain": [
       "4.514493768883272"
      ]
     },
     "execution_count": 65,
     "metadata": {},
     "output_type": "execute_result"
    }
   ],
   "source": [
    "beta0 = indicators['PriceChange'].mean() - beta1 * indicators['LoanPaymentsOverdue'].mean()\n",
    "beta0"
   ]
  },
  {
   "cell_type": "code",
   "execution_count": 87,
   "id": "9e992f64",
   "metadata": {},
   "outputs": [
    {
     "data": {
      "text/plain": [
       "4.657092112514465"
      ]
     },
     "execution_count": 87,
     "metadata": {},
     "output_type": "execute_result"
    }
   ],
   "source": [
    "s = (SYY / (len(indicators.index)-2))**(1/2)\n",
    "s"
   ]
  },
  {
   "cell_type": "code",
   "execution_count": 83,
   "id": "1e680750",
   "metadata": {},
   "outputs": [],
   "source": [
    "import scipy.stats as st"
   ]
  },
  {
   "cell_type": "code",
   "execution_count": 88,
   "id": "c2ed4554",
   "metadata": {},
   "outputs": [
    {
     "data": {
      "text/plain": [
       "2.1199052992210112"
      ]
     },
     "execution_count": 88,
     "metadata": {},
     "output_type": "execute_result"
    }
   ],
   "source": [
    "st.t.ppf(0.975, len(indicators.index)-2)"
   ]
  },
  {
   "cell_type": "code",
   "execution_count": 89,
   "id": "79b916d5",
   "metadata": {},
   "outputs": [
    {
     "data": {
      "text/plain": [
       "-4.503964968807471"
      ]
     },
     "execution_count": 89,
     "metadata": {},
     "output_type": "execute_result"
    }
   ],
   "source": [
    "beta1 - st.t.ppf(0.975, len(indicators.index)-2) * s / (SXX)**(1/2)"
   ]
  },
  {
   "cell_type": "code",
   "execution_count": 90,
   "id": "c1260f3e",
   "metadata": {},
   "outputs": [
    {
     "data": {
      "text/plain": [
       "0.00692540165116684"
      ]
     },
     "execution_count": 90,
     "metadata": {},
     "output_type": "execute_result"
    }
   ],
   "source": [
    "beta1 + st.t.ppf(0.975, len(indicators.index)-2) * s / (SXX)**(1/2)"
   ]
  },
  {
   "cell_type": "code",
   "execution_count": null,
   "id": "7435bdf4",
   "metadata": {},
   "outputs": [],
   "source": []
  }
 ],
 "metadata": {
  "kernelspec": {
   "display_name": "Python 3 (ipykernel)",
   "language": "python",
   "name": "python3"
  },
  "language_info": {
   "codemirror_mode": {
    "name": "ipython",
    "version": 3
   },
   "file_extension": ".py",
   "mimetype": "text/x-python",
   "name": "python",
   "nbconvert_exporter": "python",
   "pygments_lexer": "ipython3",
   "version": "3.9.12"
  }
 },
 "nbformat": 4,
 "nbformat_minor": 5
}
